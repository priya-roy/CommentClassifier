{
 "cells": [
  {
   "cell_type": "code",
   "execution_count": 1,
   "metadata": {},
   "outputs": [
    {
     "data": {
      "text/plain": [
       "2"
      ]
     },
     "execution_count": 1,
     "metadata": {},
     "output_type": "execute_result"
    }
   ],
   "source": [
    "1+1"
   ]
  },
  {
   "cell_type": "code",
   "execution_count": 2,
   "metadata": {},
   "outputs": [
    {
     "data": {
      "text/plain": [
       "'/Users/priyaroy/Documents/Projects/nlp-projects/CommentClassifier/research'"
      ]
     },
     "execution_count": 2,
     "metadata": {},
     "output_type": "execute_result"
    }
   ],
   "source": [
    "import os\n",
    "\n",
    "%pwd"
   ]
  },
  {
   "cell_type": "code",
   "execution_count": 3,
   "metadata": {},
   "outputs": [
    {
     "data": {
      "text/plain": [
       "'/Users/priyaroy/Documents/Projects/nlp-projects/CommentClassifier'"
      ]
     },
     "execution_count": 3,
     "metadata": {},
     "output_type": "execute_result"
    }
   ],
   "source": [
    "os.chdir(\"../\")\n",
    "\n",
    "%pwd"
   ]
  },
  {
   "cell_type": "code",
   "execution_count": 4,
   "metadata": {},
   "outputs": [],
   "source": [
    "from dataclasses import dataclass\n",
    "from pathlib import Path\n",
    "\n",
    "@dataclass(frozen=True)\n",
    "class ModelEvaluationConfig:\n",
    "    root_dir: Path\n",
    "    data_path: Path\n",
    "    model_path: Path\n",
    "    tokenizer_path: Path\n",
    "    metric_file_name: Path\n",
    "    metrics: list[str]\n",
    "    validation_split: float\n",
    "    cross_validation: bool\n",
    "    cv_folds: int\n",
    "    text_column: str\n",
    "    label_column: bool\n"
   ]
  },
  {
   "cell_type": "code",
   "execution_count": 5,
   "metadata": {},
   "outputs": [],
   "source": [
    "from src.CommentClassifier.constants import *\n",
    "from src.CommentClassifier.utils.common import read_yaml, create_directories"
   ]
  },
  {
   "cell_type": "code",
   "execution_count": 6,
   "metadata": {},
   "outputs": [],
   "source": [
    "class ConfigurationManager:\n",
    "    def __init__(\n",
    "        self,\n",
    "        config_filepath = CONFIG_FILE_PATH,\n",
    "        params_filepath = PARAMS_FILE_PATH):\n",
    "\n",
    "        self.config = read_yaml(config_filepath)\n",
    "\n",
    "        create_directories([self.config.artifacts_root])\n",
    "\n",
    "    def get_model_evaluation_config(self) -> ModelEvaluationConfig:\n",
    "        config = self.config.model_evaluation\n",
    "\n",
    "        create_directories([config.root_dir])\n",
    "\n",
    "        model_evaluation_config = ModelEvaluationConfig(\n",
    "            root_dir=config.root_dir,\n",
    "            data_path=config.data_path,\n",
    "            model_path = config.model_path,\n",
    "            tokenizer_path = config.tokenizer_path,\n",
    "            metric_file_name = config.metric_file_name,\n",
    "            metrics=config.metrics,\n",
    "            validation_split=config.validation_split,\n",
    "            cross_validation=config.cross_validation,\n",
    "            cv_folds=config.cv_folds,\n",
    "            text_column=config.text_column,\n",
    "            label_column=config.label_column\n",
    "        )\n",
    "\n",
    "        return model_evaluation_config"
   ]
  },
  {
   "cell_type": "code",
   "execution_count": 7,
   "metadata": {},
   "outputs": [],
   "source": [
    "import joblib\n",
    "import json\n",
    "import pandas as pd\n",
    "from pathlib import Path\n",
    "from sklearn.metrics import accuracy_score, classification_report"
   ]
  },
  {
   "cell_type": "code",
   "execution_count": 23,
   "metadata": {},
   "outputs": [],
   "source": [
    "class ModelEvaluation:\n",
    "    def __init__(self, config: ModelEvaluationConfig):\n",
    "        self.config = config\n",
    "        self.model = self.load_model()\n",
    "        self.vectorizer = self.load_vectorizer()\n",
    "        \n",
    "    def load_model(self):\n",
    "        \"\"\" Load the trained model \"\"\"\n",
    "        model_path = Path(self.config.model_path)\n",
    "        if not model_path.exists():\n",
    "            raise FileNotFoundError(f\"Model file not found: {model_path}\")\n",
    "        return joblib.load(model_path)\n",
    "\n",
    "    def load_vectorizer(self):\n",
    "        \"\"\" Load the saved TF-IDF vectorizer \"\"\"\n",
    "        vectorizer_path = Path(self.config.tokenizer_path)\n",
    "        if not vectorizer_path.exists():\n",
    "            raise FileNotFoundError(f\"Vectorizer file not found: {tokenizer_path}\")\n",
    "        return joblib.load(vectorizer_path)\n",
    "\n",
    "    def load_data(self):\n",
    "        \"\"\" Load validation and test datasets \"\"\"\n",
    "        data_path = Path(self.config.data_path, \"train.csv\")\n",
    "\n",
    "        if not data_path.exists():\n",
    "            raise FileNotFoundError(f\"Data file not found: {data_path}\")\n",
    "\n",
    "        df = pd.read_csv(data_path)\n",
    "        # Fill NaN values with an empty string\n",
    "        df[self.config.text_column] = df[self.config.text_column].fillna(\"\")\n",
    "        X = df[self.config.text_column]\n",
    "        y = df[self.config.label_column]\n",
    "\n",
    "        # Splitting into validation and test sets\n",
    "        split_idx = int(len(df) * (1 - self.config.validation_split))\n",
    "        X_validation, y_validation = X[:split_idx], y[:split_idx]\n",
    "        X_test, y_test = X[split_idx:], y[split_idx:]\n",
    "\n",
    "        return X_validation, y_validation, X_test, y_test\n",
    "\n",
    "    def evaluate_model(self, model, vectorizer, X, y):\n",
    "        \"\"\" Transform text using TF-IDF and evaluate the model \"\"\"\n",
    "        X_tfidf = vectorizer.transform(X)  # Apply TF-IDF transformation\n",
    "        predictions = model.predict(X_tfidf)\n",
    "        accuracy = accuracy_score(y, predictions)\n",
    "        report = classification_report(y, predictions)\n",
    "        return accuracy, report\n",
    "    \n",
    "    def save_metrics(self, metrics):\n",
    "        \"\"\"Save metrics as a CSV file.\"\"\"\n",
    "        metrics_path = self.config.metric_file_name\n",
    "        with open(metrics_path, \"w\") as f:\n",
    "            json.dump(metrics, f, indent=4)\n",
    "        print(f\"Metrics saved at {metrics_path}\")\n",
    "\n",
    "    def run_evaluation(self):\n",
    "        \"\"\" Run model evaluation \"\"\"\n",
    "        print(\"Loading model and vectorizer...\")\n",
    "        model = self.load_model()\n",
    "        vectorizer = self.load_vectorizer()\n",
    "\n",
    "        print(\"Loading data...\")\n",
    "        X_validation, y_validation, X_test, y_test = self.load_data()\n",
    "\n",
    "        print(\"Evaluating on Validation Set...\")\n",
    "        val_acc, val_report = self.evaluate_model(model, vectorizer, X_validation, y_validation)\n",
    "        print(f\"Validation Accuracy: {val_acc}\")\n",
    "        print(f\"Validation Classification Report:\\n{val_report}\")\n",
    "\n",
    "        print(\"Evaluating on Test Set...\")\n",
    "        test_acc, test_report = self.evaluate_model(model, vectorizer, X_test, y_test)\n",
    "        print(f\"Test Accuracy: {test_acc}\")\n",
    "        print(f\"Test Classification Report:\\n{test_report}\")\n",
    "\n",
    "        # Save metrics\n",
    "        metrics = {\n",
    "            \"Validation Accuracy\": val_acc,\n",
    "            \"Validation Report\": val_report,\n",
    "            \"Test Accuracy\": test_acc,\n",
    "            \"Test Report\": test_report\n",
    "        }\n",
    "        self.save_metrics(metrics)"
   ]
  },
  {
   "cell_type": "code",
   "execution_count": 24,
   "metadata": {},
   "outputs": [
    {
     "name": "stdout",
     "output_type": "stream",
     "text": [
      "DEBUG: YAML Content Type: <class 'dict'>\n",
      "DEBUG: YAML Content: {'artifacts_root': 'artifacts', 'data_ingestion': {'root_dir': 'artifacts/data_ingestion', 'source_URL': 'https://github.com/priya-roy/unhealthy-comments-Dataset/raw/refs/heads/main/commentClassification.zip', 'local_data_file': 'artifacts/data_ingestion/data.zip', 'unzip_dir': 'artifacts/data_ingestion'}, 'data_transformation': {'text_column': 'comment', 'label_column': 'healthy', 'stopwords': 'english', 'lowercase': True, 'remove_special_characters': True, 'remove_extra_spaces': True, 'root_dir': 'artifacts/data_transformation', 'data_path': 'artifacts/data_ingestion/commentClassification', 'tokenizer_name': 'nltk'}, 'tfidf_vectorizer': {'max_features': 10000, 'ngram_range': [1, 2], 'stop_words': 'english', 'min_df': 2, 'max_df': 0.9}, 'model_trainer': {'root_dir': 'artifacts/model_trainer', 'data_path': 'artifacts/data_transformation/commentClassification', 'tokenizer_name': 'nltk', 'text_column': 'comment', 'label_column': 'healthy'}, 'model_evaluation': {'metrics': ['accuracy', 'precision', 'recall', 'f1_score'], 'validation_split': 0.2, 'cross_validation': True, 'cv_folds': 5, 'root_dir': 'artifacts/model_evaluation', 'data_path': 'artifacts/data_transformation/commentClassification', 'model_path': 'artifacts/model_trainer/model.pkl', 'tokenizer_path': 'artifacts/model_trainer/tfidf_vectorizer.pkl', 'metric_file_name': 'artifacts/model_evaluation/metrics.csv', 'text_column': 'comment', 'label_column': 'healthy'}, 'output': {'model_save_path': 'models/trained_model.pkl', 'vectorizer_save_path': 'models/tfidf_vectorizer.pkl', 'evaluation_report_path': 'reports/evaluation_report.txt', 'log_file_path': 'logs/pipeline.log'}}\n",
      "[2025-02-24 13:48:13,528: INFO: common: yaml file: config/config.yaml loaded successfully]\n",
      "[2025-02-24 13:48:13,529: INFO: common: created directory at: artifacts]\n",
      "[2025-02-24 13:48:13,530: INFO: common: created directory at: artifacts/model_evaluation]\n",
      "Loading model and vectorizer...\n",
      "Loading data...\n",
      "Evaluating on Validation Set...\n",
      "Validation Accuracy: 0.9861361735839091\n",
      "Validation Classification Report:\n",
      "              precision    recall  f1-score   support\n",
      "\n",
      "           0       0.98      0.83      0.90      1684\n",
      "           1       0.99      1.00      0.99     21037\n",
      "\n",
      "    accuracy                           0.99     22721\n",
      "   macro avg       0.98      0.91      0.95     22721\n",
      "weighted avg       0.99      0.99      0.99     22721\n",
      "\n",
      "Evaluating on Test Set...\n",
      "Test Accuracy: 0.9843337440591445\n",
      "Test Classification Report:\n",
      "              precision    recall  f1-score   support\n",
      "\n",
      "           0       0.99      0.81      0.89       435\n",
      "           1       0.98      1.00      0.99      5246\n",
      "\n",
      "    accuracy                           0.98      5681\n",
      "   macro avg       0.99      0.90      0.94      5681\n",
      "weighted avg       0.98      0.98      0.98      5681\n",
      "\n",
      "Metrics saved at artifacts/model_evaluation/metrics.csv\n"
     ]
    }
   ],
   "source": [
    "# Load configuration\n",
    "config = ConfigurationManager()\n",
    "model_evaluation_config = config.get_model_evaluation_config()\n",
    "# Run evaluation\n",
    "model_evaluation = ModelEvaluation(config=model_evaluation_config)\n",
    "model_evaluation.run_evaluation()\n"
   ]
  }
 ],
 "metadata": {
  "kernelspec": {
   "display_name": "Python 3",
   "language": "python",
   "name": "python3"
  },
  "language_info": {
   "codemirror_mode": {
    "name": "ipython",
    "version": 3
   },
   "file_extension": ".py",
   "mimetype": "text/x-python",
   "name": "python",
   "nbconvert_exporter": "python",
   "pygments_lexer": "ipython3",
   "version": "3.10.16"
  },
  "orig_nbformat": 4
 },
 "nbformat": 4,
 "nbformat_minor": 2
}
