{
 "cells": [
  {
   "cell_type": "code",
   "execution_count": 13,
   "metadata": {},
   "outputs": [
    {
     "data": {
      "text/plain": [
       "2"
      ]
     },
     "execution_count": 13,
     "metadata": {},
     "output_type": "execute_result"
    }
   ],
   "source": [
    "1+1"
   ]
  },
  {
   "cell_type": "code",
   "execution_count": 14,
   "metadata": {},
   "outputs": [
    {
     "data": {
      "text/plain": [
       "'/Users/priyaroy/Documents/Projects/nlp-projects/CommentClassifier'"
      ]
     },
     "execution_count": 14,
     "metadata": {},
     "output_type": "execute_result"
    }
   ],
   "source": [
    "import os\n",
    "\n",
    "%pwd"
   ]
  },
  {
   "cell_type": "code",
   "execution_count": 15,
   "metadata": {},
   "outputs": [
    {
     "data": {
      "text/plain": [
       "'/Users/priyaroy/Documents/Projects/nlp-projects'"
      ]
     },
     "execution_count": 15,
     "metadata": {},
     "output_type": "execute_result"
    }
   ],
   "source": [
    "os.chdir(\"../\")\n",
    "%pwd"
   ]
  },
  {
   "cell_type": "code",
   "execution_count": 16,
   "metadata": {},
   "outputs": [],
   "source": [
    "from dataclasses import dataclass\n",
    "from pathlib import Path\n",
    "\n",
    "@dataclass\n",
    "class DataTransformationConfig:\n",
    "    root_dir: Path\n",
    "    data_path: Path\n",
    "    tokenizer_name: Path\n",
    "    text_column: str\n",
    "    label_column: bool\n",
    "    stopwords: str\n",
    "    lowercase: bool\n",
    "    remove_special_characters: bool\n",
    "    remove_extra_spaces: bool\n",
    "    \n",
    "    \n",
    "    "
   ]
  },
  {
   "cell_type": "code",
   "execution_count": 17,
   "metadata": {},
   "outputs": [],
   "source": [
    "from src.CommentClassifier.constants import *\n",
    "from src.CommentClassifier.utils.common import read_yaml, create_directories"
   ]
  },
  {
   "cell_type": "code",
   "execution_count": 18,
   "metadata": {},
   "outputs": [],
   "source": [
    "class ConfigurationManager:\n",
    "    def __init__(self,\n",
    "                 config_path=CONFIG_FILE_PATH,\n",
    "                 params_filepath=PARAMS_FILE_PATH):\n",
    "        self.config=read_yaml(config_path)\n",
    "        self.paramss=read_yaml(params_filepath)\n",
    "\n",
    "        create_directories([self.config.artifacts_root])\n",
    "\n",
    "    def get_data_transformation_config(self)-> DataTransformationConfig:\n",
    "        config=self.config.data_transformation\n",
    "\n",
    "        create_directories([config.root_dir])\n",
    "\n",
    "        data_transformation_config=DataTransformationConfig(\n",
    "            root_dir=config.root_dir,\n",
    "            data_path=config.data_path,\n",
    "            tokenizer_name=config.tokenizer_name,\n",
    "            text_column=config.text_column,\n",
    "            label_column=config.label_column,\n",
    "            stopwords=config.stopwords,\n",
    "            lowercase=config.lowercase,\n",
    "            remove_special_characters=config.remove_special_characters,\n",
    "            remove_extra_spaces=config.remove_extra_spaces\n",
    "        )\n",
    "\n",
    "        return data_transformation_config"
   ]
  },
  {
   "cell_type": "code",
   "execution_count": 19,
   "metadata": {},
   "outputs": [
    {
     "name": "stderr",
     "output_type": "stream",
     "text": [
      "[nltk_data] Downloading package stopwords to\n",
      "[nltk_data]     /Users/priyaroy/nltk_data...\n",
      "[nltk_data]   Package stopwords is already up-to-date!\n"
     ]
    },
    {
     "data": {
      "text/plain": [
       "True"
      ]
     },
     "execution_count": 19,
     "metadata": {},
     "output_type": "execute_result"
    }
   ],
   "source": [
    "import os\n",
    "from src.CommentClassifier.logging import logger\n",
    "from datasets import load_from_disk\n",
    "import os\n",
    "import pandas as pd\n",
    "import seaborn as sns\n",
    "import yaml\n",
    "import nltk\n",
    "import re\n",
    "from nltk.corpus import stopwords\n",
    "import matplotlib.pyplot as plt\n",
    "from wordcloud import WordCloud\n",
    "from sklearn.model_selection import train_test_split\n",
    "nltk.download(\"stopwords\")"
   ]
  },
  {
   "cell_type": "markdown",
   "metadata": {},
   "source": [
    "### Data Transformation Component"
   ]
  },
  {
   "cell_type": "code",
   "execution_count": 20,
   "metadata": {},
   "outputs": [],
   "source": [
    "# Data Transformation Class\n",
    "class DataTransformation:\n",
    "    def __init__(self,config:DataTransformationConfig):\n",
    "        self.config=config\n",
    "        \n",
    "    def clean_text(self, text):\n",
    "        \"\"\"\n",
    "        Perform text cleaning: remove special characters, extra spaces, and stopwords.\n",
    "        \"\"\"\n",
    "        STOPWORDS = set(stopwords.words(self.config.stopwords))\n",
    "        text = text.lower() if self.config.lowercase else text\n",
    "        text = re.sub(r\"[^a-zA-Z\\s]\", \"\", text) if self.config.remove_special_characters else text\n",
    "        text = \" \".join(text.split()) if self.config.remove_extra_spaces else text\n",
    "        text = \" \".join([word for word in text.split() if word not in STOPWORDS])\n",
    "        return text\n",
    "    \n",
    "    def transform_data(self):\n",
    "        \"\"\"\n",
    "        Load dataset, clean text, and save transformed data.\n",
    "        \"\"\"\n",
    "        file_path = os.path.join(self.config.data_path, \"train.csv\")\n",
    "        df = pd.read_csv(file_path)\n",
    "\n",
    "        df[self.config.text_column] = df[self.config.text_column].astype(str).apply(self.clean_text)\n",
    "        df = df.dropna(subset=self.config.text_column)\n",
    "        # Split the dataset into train, test, and validation sets\n",
    "        train_df, temp_df = train_test_split(df, test_size=0.2, random_state=42)  # 80% train, 20% for temp\n",
    "        val_df, test_df = train_test_split(temp_df, test_size=0.5, random_state=42)  # Split remaining 20% into 10% test, 10% validation\n",
    "\n",
    "        # Save the transformed data into CSV files\n",
    "        train_df.to_csv(os.path.join(self.config.root_dir,  \"train.csv\"), index=False)\n",
    "        val_df.to_csv(os.path.join(self.config.root_dir, \"val.csv\"), index=False)\n",
    "        test_df.to_csv(os.path.join(self.config.root_dir, \"test.csv\"), index=False)\n",
    "\n",
    "        print(\"Transformed data saved successfully as train.csv, test.csv, and val.csv!\")\n",
    " "
   ]
  },
  {
   "cell_type": "code",
   "execution_count": 21,
   "metadata": {},
   "outputs": [
    {
     "name": "stdout",
     "output_type": "stream",
     "text": [
      "Unexpected exception formatting exception. Falling back to standard exception\n"
     ]
    },
    {
     "name": "stderr",
     "output_type": "stream",
     "text": [
      "Traceback (most recent call last):\n",
      "  File \"/Users/priyaroy/Documents/Projects/nlp-projects/CommentClassifier/venv/lib/python3.10/site-packages/IPython/core/interactiveshell.py\", line 3579, in run_code\n",
      "    exec(code_obj, self.user_global_ns, self.user_ns)\n",
      "  File \"/var/folders/pj/lh27tt7s3sd1zql9n09bxk4w0000gn/T/ipykernel_25097/735473853.py\", line 2, in <module>\n",
      "    config=ConfigurationManager()\n",
      "  File \"/var/folders/pj/lh27tt7s3sd1zql9n09bxk4w0000gn/T/ipykernel_25097/2458662056.py\", line 5, in __init__\n",
      "    self.config=read_yaml(config_path)\n",
      "  File \"/Users/priyaroy/Documents/Projects/nlp-projects/CommentClassifier/venv/lib/python3.10/site-packages/ensure/main.py\", line 872, in __call__\n",
      "    return_val = self.f(*args, **kwargs)\n",
      "  File \"/Users/priyaroy/Documents/Projects/nlp-projects/CommentClassifier/src/CommentClassifier/utils/common.py\", line 35, in read_yaml\n",
      "    raise e\n",
      "  File \"/Users/priyaroy/Documents/Projects/nlp-projects/CommentClassifier/src/CommentClassifier/utils/common.py\", line 26, in read_yaml\n",
      "    with open(path_to_yaml) as yaml_file:\n",
      "FileNotFoundError: [Errno 2] No such file or directory: 'config/config.yaml'\n",
      "\n",
      "During handling of the above exception, another exception occurred:\n",
      "\n",
      "Traceback (most recent call last):\n",
      "  File \"/Users/priyaroy/Documents/Projects/nlp-projects/CommentClassifier/venv/lib/python3.10/site-packages/IPython/core/interactiveshell.py\", line 2170, in showtraceback\n",
      "    stb = self.InteractiveTB.structured_traceback(\n",
      "  File \"/Users/priyaroy/Documents/Projects/nlp-projects/CommentClassifier/venv/lib/python3.10/site-packages/IPython/core/ultratb.py\", line 1457, in structured_traceback\n",
      "    return FormattedTB.structured_traceback(\n",
      "  File \"/Users/priyaroy/Documents/Projects/nlp-projects/CommentClassifier/venv/lib/python3.10/site-packages/IPython/core/ultratb.py\", line 1348, in structured_traceback\n",
      "    return VerboseTB.structured_traceback(\n",
      "  File \"/Users/priyaroy/Documents/Projects/nlp-projects/CommentClassifier/venv/lib/python3.10/site-packages/IPython/core/ultratb.py\", line 1195, in structured_traceback\n",
      "    formatted_exception = self.format_exception_as_a_whole(etype, evalue, etb, number_of_lines_of_context,\n",
      "  File \"/Users/priyaroy/Documents/Projects/nlp-projects/CommentClassifier/venv/lib/python3.10/site-packages/IPython/core/ultratb.py\", line 1110, in format_exception_as_a_whole\n",
      "    frames.append(self.format_record(record))\n",
      "  File \"/Users/priyaroy/Documents/Projects/nlp-projects/CommentClassifier/venv/lib/python3.10/site-packages/IPython/core/ultratb.py\", line 992, in format_record\n",
      "    frame_info.lines, Colors, self.has_colors, lvals\n",
      "  File \"/Users/priyaroy/Documents/Projects/nlp-projects/CommentClassifier/venv/lib/python3.10/site-packages/IPython/core/ultratb.py\", line 804, in lines\n",
      "    return self._sd.lines\n",
      "  File \"/Users/priyaroy/Documents/Projects/nlp-projects/CommentClassifier/venv/lib/python3.10/site-packages/stack_data/utils.py\", line 145, in cached_property_wrapper\n",
      "    value = obj.__dict__[self.func.__name__] = self.func(obj)\n",
      "  File \"/Users/priyaroy/Documents/Projects/nlp-projects/CommentClassifier/venv/lib/python3.10/site-packages/stack_data/core.py\", line 734, in lines\n",
      "    pieces = self.included_pieces\n",
      "  File \"/Users/priyaroy/Documents/Projects/nlp-projects/CommentClassifier/venv/lib/python3.10/site-packages/stack_data/utils.py\", line 145, in cached_property_wrapper\n",
      "    value = obj.__dict__[self.func.__name__] = self.func(obj)\n",
      "  File \"/Users/priyaroy/Documents/Projects/nlp-projects/CommentClassifier/venv/lib/python3.10/site-packages/stack_data/core.py\", line 677, in included_pieces\n",
      "    scope_pieces = self.scope_pieces\n",
      "  File \"/Users/priyaroy/Documents/Projects/nlp-projects/CommentClassifier/venv/lib/python3.10/site-packages/stack_data/utils.py\", line 145, in cached_property_wrapper\n",
      "    value = obj.__dict__[self.func.__name__] = self.func(obj)\n",
      "  File \"/Users/priyaroy/Documents/Projects/nlp-projects/CommentClassifier/venv/lib/python3.10/site-packages/stack_data/core.py\", line 614, in scope_pieces\n",
      "    scope_start, scope_end = self.source.line_range(self.scope)\n",
      "  File \"/Users/priyaroy/Documents/Projects/nlp-projects/CommentClassifier/venv/lib/python3.10/site-packages/stack_data/core.py\", line 178, in line_range\n",
      "    return line_range(self.asttext(), node)\n",
      "AttributeError: 'Source' object has no attribute 'asttext'\n"
     ]
    }
   ],
   "source": [
    "# Run Data Transformation\n",
    "config=ConfigurationManager()\n",
    "data_transformation_config=config.get_data_transformation_config()\n",
    "transformer = DataTransformation(config=data_transformation_config)\n",
    "transformer.transform_data()"
   ]
  },
  {
   "cell_type": "code",
   "execution_count": 25,
   "metadata": {},
   "outputs": [],
   "source": [
    "class EDA:     \n",
    "    def __init__(self,config:DataTransformationConfig):\n",
    "        self.config=config\n",
    "        self.text_column = self.config.text_column\n",
    "        self.label_column = self.config.label_column\n",
    "        self.data_path = self.config.data_path\n",
    "    \n",
    "    def load_dataset(self):\n",
    "        \"\"\"\n",
    "        Load dataset from the transformed file.\n",
    "        \"\"\"\n",
    "        file_path = os.path.join(self.config.root_dir, \"train.csv\")\n",
    "        if os.path.exists(file_path):\n",
    "            df = pd.read_csv(file_path)\n",
    "            print(f\"Dataset Loaded: {df.shape} rows, {df.columns.tolist()} columns\")\n",
    "            return df\n",
    "        else:\n",
    "            raise FileNotFoundError(f\"Dataset not found at {file_path}\")\n",
    "\n",
    "    def show_data_info(self, df):\n",
    "        \"\"\"\n",
    "        Display basic dataset information.\n",
    "        \"\"\"\n",
    "        print(\"\\nDataset Information:\\n\")\n",
    "        print(df.info())\n",
    "        print(\"\\nMissing Values:\\n\", df.isnull().sum())\n",
    "        print(\"\\nLabel Distribution:\\n\", df[self.config.label_column].value_counts())\n",
    "\n",
    "    def plot_label_distribution(self, df):\n",
    "        \"\"\"\n",
    "        Visualise the distribution of labels (toxic vs. healthy).\n",
    "        \"\"\"\n",
    "        plt.figure(figsize=(6,4))\n",
    "        sns.countplot(x=self.config.label_column, data=df, palette=\"coolwarm\")\n",
    "        plt.title(\"Label Distribution\")\n",
    "        plt.xlabel(\"Healthy (1) / Toxic (0)\")\n",
    "        plt.ylabel(\"Count\")\n",
    "        plt.show()\n",
    "\n",
    "    def plot_text_length_distribution(self, df):\n",
    "        \"\"\"\n",
    "        Plot distribution of comment lengths.\n",
    "        \"\"\"\n",
    "        df[\"text_length\"] = df[self.config.text_column].apply(lambda x: len(str(x).split()))\n",
    "        plt.figure(figsize=(8,5))\n",
    "        sns.histplot(df[\"text_length\"], bins=50, kde=True, color=\"blue\")\n",
    "        plt.title(\"Distribution of Comment Lengths\")\n",
    "        plt.xlabel(\"Word Count\")\n",
    "        plt.ylabel(\"Frequency\")\n",
    "        plt.show()\n",
    "\n",
    "    def word_cloud(self, df, label=1):\n",
    "        \"\"\"\n",
    "        Generate a word cloud for toxic (0) or healthy (1) comments.\n",
    "        \"\"\"\n",
    "        text_data = \" \".join(df[df[self.config.label_column] == label][self.config.text_column].astype(str))\n",
    "        wordcloud = WordCloud(width=800, height=400, background_color=\"white\").generate(text_data)\n",
    "\n",
    "        plt.figure(figsize=(10,5))\n",
    "        plt.imshow(wordcloud, interpolation=\"bilinear\")\n",
    "        plt.axis(\"off\")\n",
    "        plt.title(f\"Word Cloud for {'Healthy' if label == 1 else 'Toxic'} Comments\")\n",
    "        plt.show()\n",
    "\n",
    "    def run_eda(self):\n",
    "        \"\"\"\n",
    "        Perform the complete EDA process.\n",
    "        \"\"\"\n",
    "        df = self.load_dataset()\n",
    "        self.show_data_info(df)\n",
    "        self.plot_label_distribution(df)\n",
    "        self.plot_text_length_distribution(df)\n",
    "        self.word_cloud(df, label=1)  # Word cloud for healthy comments\n",
    "        self.word_cloud(df, label=0)  # Word cloud for toxic comments\n",
    "\n",
    "\n",
    "\n"
   ]
  },
  {
   "cell_type": "code",
   "execution_count": 26,
   "metadata": {},
   "outputs": [
    {
     "name": "stdout",
     "output_type": "stream",
     "text": [
      "Unexpected exception formatting exception. Falling back to standard exception\n"
     ]
    },
    {
     "name": "stderr",
     "output_type": "stream",
     "text": [
      "Traceback (most recent call last):\n",
      "  File \"/Users/priyaroy/Documents/Projects/nlp-projects/CommentClassifier/venv/lib/python3.10/site-packages/IPython/core/interactiveshell.py\", line 3579, in run_code\n",
      "    exec(code_obj, self.user_global_ns, self.user_ns)\n",
      "  File \"/var/folders/pj/lh27tt7s3sd1zql9n09bxk4w0000gn/T/ipykernel_25097/1544449516.py\", line 2, in <module>\n",
      "    config = ConfigurationManager()\n",
      "  File \"/var/folders/pj/lh27tt7s3sd1zql9n09bxk4w0000gn/T/ipykernel_25097/2458662056.py\", line 5, in __init__\n",
      "    self.config=read_yaml(config_path)\n",
      "  File \"/Users/priyaroy/Documents/Projects/nlp-projects/CommentClassifier/venv/lib/python3.10/site-packages/ensure/main.py\", line 872, in __call__\n",
      "    return_val = self.f(*args, **kwargs)\n",
      "  File \"/Users/priyaroy/Documents/Projects/nlp-projects/CommentClassifier/src/CommentClassifier/utils/common.py\", line 35, in read_yaml\n",
      "    raise e\n",
      "  File \"/Users/priyaroy/Documents/Projects/nlp-projects/CommentClassifier/src/CommentClassifier/utils/common.py\", line 26, in read_yaml\n",
      "    with open(path_to_yaml) as yaml_file:\n",
      "FileNotFoundError: [Errno 2] No such file or directory: 'config/config.yaml'\n",
      "\n",
      "During handling of the above exception, another exception occurred:\n",
      "\n",
      "Traceback (most recent call last):\n",
      "  File \"/Users/priyaroy/Documents/Projects/nlp-projects/CommentClassifier/venv/lib/python3.10/site-packages/IPython/core/interactiveshell.py\", line 2170, in showtraceback\n",
      "    stb = self.InteractiveTB.structured_traceback(\n",
      "  File \"/Users/priyaroy/Documents/Projects/nlp-projects/CommentClassifier/venv/lib/python3.10/site-packages/IPython/core/ultratb.py\", line 1457, in structured_traceback\n",
      "    return FormattedTB.structured_traceback(\n",
      "  File \"/Users/priyaroy/Documents/Projects/nlp-projects/CommentClassifier/venv/lib/python3.10/site-packages/IPython/core/ultratb.py\", line 1348, in structured_traceback\n",
      "    return VerboseTB.structured_traceback(\n",
      "  File \"/Users/priyaroy/Documents/Projects/nlp-projects/CommentClassifier/venv/lib/python3.10/site-packages/IPython/core/ultratb.py\", line 1195, in structured_traceback\n",
      "    formatted_exception = self.format_exception_as_a_whole(etype, evalue, etb, number_of_lines_of_context,\n",
      "  File \"/Users/priyaroy/Documents/Projects/nlp-projects/CommentClassifier/venv/lib/python3.10/site-packages/IPython/core/ultratb.py\", line 1110, in format_exception_as_a_whole\n",
      "    frames.append(self.format_record(record))\n",
      "  File \"/Users/priyaroy/Documents/Projects/nlp-projects/CommentClassifier/venv/lib/python3.10/site-packages/IPython/core/ultratb.py\", line 992, in format_record\n",
      "    frame_info.lines, Colors, self.has_colors, lvals\n",
      "  File \"/Users/priyaroy/Documents/Projects/nlp-projects/CommentClassifier/venv/lib/python3.10/site-packages/IPython/core/ultratb.py\", line 804, in lines\n",
      "    return self._sd.lines\n",
      "  File \"/Users/priyaroy/Documents/Projects/nlp-projects/CommentClassifier/venv/lib/python3.10/site-packages/stack_data/utils.py\", line 145, in cached_property_wrapper\n",
      "    value = obj.__dict__[self.func.__name__] = self.func(obj)\n",
      "  File \"/Users/priyaroy/Documents/Projects/nlp-projects/CommentClassifier/venv/lib/python3.10/site-packages/stack_data/core.py\", line 734, in lines\n",
      "    pieces = self.included_pieces\n",
      "  File \"/Users/priyaroy/Documents/Projects/nlp-projects/CommentClassifier/venv/lib/python3.10/site-packages/stack_data/utils.py\", line 145, in cached_property_wrapper\n",
      "    value = obj.__dict__[self.func.__name__] = self.func(obj)\n",
      "  File \"/Users/priyaroy/Documents/Projects/nlp-projects/CommentClassifier/venv/lib/python3.10/site-packages/stack_data/core.py\", line 677, in included_pieces\n",
      "    scope_pieces = self.scope_pieces\n",
      "  File \"/Users/priyaroy/Documents/Projects/nlp-projects/CommentClassifier/venv/lib/python3.10/site-packages/stack_data/utils.py\", line 145, in cached_property_wrapper\n",
      "    value = obj.__dict__[self.func.__name__] = self.func(obj)\n",
      "  File \"/Users/priyaroy/Documents/Projects/nlp-projects/CommentClassifier/venv/lib/python3.10/site-packages/stack_data/core.py\", line 614, in scope_pieces\n",
      "    scope_start, scope_end = self.source.line_range(self.scope)\n",
      "  File \"/Users/priyaroy/Documents/Projects/nlp-projects/CommentClassifier/venv/lib/python3.10/site-packages/stack_data/core.py\", line 178, in line_range\n",
      "    return line_range(self.asttext(), node)\n",
      "AttributeError: 'Source' object has no attribute 'asttext'\n"
     ]
    }
   ],
   "source": [
    "# Run EDA\n",
    "config = ConfigurationManager()\n",
    "data_transformation_config = config.get_data_transformation_config()\n",
    "eda = EDA(config=data_transformation_config)  \n",
    "eda.run_eda()"
   ]
  },
  {
   "cell_type": "code",
   "execution_count": 24,
   "metadata": {},
   "outputs": [
    {
     "name": "stdout",
     "output_type": "stream",
     "text": [
      "Original: This is an absolutely terrible comment!! You are wrong!\n",
      "Processed: absolutely terrible comment wrong\n"
     ]
    }
   ],
   "source": [
    "\n",
    "sample_comment = \"This is an absolutely terrible comment!! You are wrong!\"\n",
    "cleaned_comment = transformer.clean_text(sample_comment)\n",
    "print(\"Original:\", sample_comment)\n",
    "print(\"Processed:\", cleaned_comment)"
   ]
  }
 ],
 "metadata": {
  "kernelspec": {
   "display_name": "Python 3",
   "language": "python",
   "name": "python3"
  },
  "language_info": {
   "codemirror_mode": {
    "name": "ipython",
    "version": 3
   },
   "file_extension": ".py",
   "mimetype": "text/x-python",
   "name": "python",
   "nbconvert_exporter": "python",
   "pygments_lexer": "ipython3",
   "version": "3.10.16"
  },
  "orig_nbformat": 4
 },
 "nbformat": 4,
 "nbformat_minor": 2
}
